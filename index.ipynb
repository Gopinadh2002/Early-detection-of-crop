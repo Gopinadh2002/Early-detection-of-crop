{
 "cells": [
  {
   "cell_type": "code",
   "execution_count": null,
   "id": "a521c489",
   "metadata": {
    "scrolled": false
   },
   "outputs": [
    {
     "name": "stdout",
     "output_type": "stream",
     "text": [
      "Found 15447 images belonging to 42 classes.\n",
      "Found 3171 images belonging to 42 classes.\n"
     ]
    },
    {
     "name": "stderr",
     "output_type": "stream",
     "text": [
      "C:\\Users\\Gopinadh\\anaconda3\\lib\\site-packages\\keras\\src\\layers\\convolutional\\base_conv.py:107: UserWarning: Do not pass an `input_shape`/`input_dim` argument to a layer. When using Sequential models, prefer using an `Input(shape)` object as the first layer in the model instead.\n",
      "  super().__init__(activity_regularizer=activity_regularizer, **kwargs)\n"
     ]
    },
    {
     "name": "stdout",
     "output_type": "stream",
     "text": [
      "Epoch 1/5\n",
      "\u001b[1m224/482\u001b[0m \u001b[32m━━━━━━━━━\u001b[0m\u001b[37m━━━━━━━━━━━\u001b[0m \u001b[1m4:27\u001b[0m 1s/step - accuracy: 0.1854 - loss: 3.1268"
     ]
    }
   ],
   "source": [
    "import tensorflow as tf\n",
    "from tensorflow.keras.models import Sequential\n",
    "from tensorflow.keras.layers import Conv2D, MaxPooling2D, Flatten, Dense, Dropout\n",
    "from tensorflow.keras.preprocessing.image import ImageDataGenerator\n",
    "import os\n",
    "\n",
    "# Define paths\n",
    "train_dir = 'Train'\n",
    "validation_dir = 'Validation'\n",
    "\n",
    "# Data Augmentation and Preprocessing\n",
    "datagen = ImageDataGenerator(\n",
    "    rescale=1./255,  # Normalize pixel values\n",
    "    rotation_range=20,  # Randomly rotate images\n",
    "    width_shift_range=0.2,  # Randomly shift images horizontally\n",
    "    height_shift_range=0.2,  # Randomly shift images vertically\n",
    "    shear_range=0.2,  # Apply shearing\n",
    "    zoom_range=0.2,  # Apply zoom\n",
    "    horizontal_flip=True  # Randomly flip images horizontally\n",
    ")\n",
    "\n",
    "# Train Generator\n",
    "train_generator = datagen.flow_from_directory(\n",
    "    train_dir,\n",
    "    target_size=(150, 150),  # Resize all images to 150x150\n",
    "    batch_size=32,\n",
    "    class_mode='categorical'  # Use categorical for multi-class classification\n",
    ")\n",
    "\n",
    "# Validation Generator\n",
    "validation_generator = datagen.flow_from_directory(\n",
    "    validation_dir,\n",
    "    target_size=(150, 150),\n",
    "    batch_size=32,\n",
    "    class_mode='categorical'\n",
    ")\n",
    "\n",
    "# Define CNN Model\n",
    "model = Sequential([\n",
    "    Conv2D(32, (3, 3), activation='relu', input_shape=(150, 150, 3)),\n",
    "    MaxPooling2D(pool_size=(2, 2)),\n",
    "    Conv2D(64, (3, 3), activation='relu'),\n",
    "    MaxPooling2D(pool_size=(2, 2)),\n",
    "    Conv2D(128, (3, 3), activation='relu'),\n",
    "    MaxPooling2D(pool_size=(2, 2)),\n",
    "    Flatten(),\n",
    "    Dense(128, activation='relu'),\n",
    "    Dropout(0.5),  # Regularization to prevent overfitting\n",
    "    Dense(len(train_generator.class_indices), activation='softmax')  # Output Layer\n",
    "])\n",
    "\n",
    "# Compile Model\n",
    "model.compile(optimizer='adam', loss='categorical_crossentropy', metrics=['accuracy'])\n",
    "\n",
    "# Train Model\n",
    "history = model.fit(\n",
    "    train_generator,\n",
    "    steps_per_epoch=train_generator.samples // train_generator.batch_size,\n",
    "    validation_data=validation_generator,\n",
    "    validation_steps=validation_generator.samples // validation_generator.batch_size,\n",
    "    epochs=5  # Adjust as needed\n",
    ")\n",
    "\n",
    "# Evaluate Model\n",
    "val_loss, val_accuracy = model.evaluate(validation_generator)\n",
    "print(f\"Validation Loss: {val_loss}, Validation Accuracy: {val_accuracy}\")\n",
    "\n",
    "import numpy as np\n",
    "predictions = model.predict(validation_generator)\n",
    "predicted_classes = np.argmax(predictions, axis=1)\n"
   ]
  },
  {
   "cell_type": "code",
   "execution_count": null,
   "id": "c49e6d4f",
   "metadata": {},
   "outputs": [],
   "source": [
    "from flask import Flask, request, render_template\n",
    "import os\n",
    "\n",
    "app = Flask(__name__)\n",
    "\n",
    "# Set the upload folder\n",
    "UPLOAD_FOLDER = 'uploads'\n",
    "os.makedirs(UPLOAD_FOLDER, exist_ok=True)\n",
    "app.config['UPLOAD_FOLDER'] = UPLOAD_FOLDER\n",
    "\n",
    "@app.route('/')\n",
    "def upload_form():\n",
    "    return render_template('new.html')  # Render the HTML form\n",
    "\n",
    "@app.route('/upload', methods=['POST'])\n",
    "def upload_file():\n",
    "    if 'image' not in request.files:\n",
    "        return \"No file part\"\n",
    "    \n",
    "    file = request.files['image']\n",
    "    if file.filename == '':\n",
    "        return \"No selected file\"\n",
    "    \n",
    "    if file:\n",
    "        filepath = os.path.join(app.config['UPLOAD_FOLDER'], file.filename)\n",
    "        file.save(filepath)  # Save the file\n",
    "        return f\"File {file.filename} uploaded successfully!\"\n",
    "\n",
    "if __name__ == '__main__':\n",
    "    app.run(debug=True)\n",
    "\n",
    "    \n",
    "predicted_class = np.argmax(prediction, axis=1)\n",
    "\n",
    "# Map predicted class to disease name (use class indices from train_generator)\n",
    "class_labels = train_generator.class_indices\n",
    "class_labels = {v: k for k, v in class_labels.items()}  # Reverse the class indices\n",
    "predicted_disease = class_labels[predicted_class[0]]\n",
    "\n",
    "print(f'The plant is predicted to have: {predicted_disease}')"
   ]
  },
  {
   "cell_type": "code",
   "execution_count": null,
   "id": "b77678df",
   "metadata": {
    "scrolled": false
   },
   "outputs": [],
   "source": []
  },
  {
   "cell_type": "code",
   "execution_count": null,
   "id": "00fb90de",
   "metadata": {},
   "outputs": [],
   "source": []
  },
  {
   "cell_type": "code",
   "execution_count": null,
   "id": "75f5b974",
   "metadata": {},
   "outputs": [],
   "source": []
  },
  {
   "cell_type": "code",
   "execution_count": null,
   "id": "360b4945",
   "metadata": {},
   "outputs": [],
   "source": []
  }
 ],
 "metadata": {
  "kernelspec": {
   "display_name": "Python 3 (ipykernel)",
   "language": "python",
   "name": "python3"
  },
  "language_info": {
   "codemirror_mode": {
    "name": "ipython",
    "version": 3
   },
   "file_extension": ".py",
   "mimetype": "text/x-python",
   "name": "python",
   "nbconvert_exporter": "python",
   "pygments_lexer": "ipython3",
   "version": "3.10.9"
  }
 },
 "nbformat": 4,
 "nbformat_minor": 5
}
